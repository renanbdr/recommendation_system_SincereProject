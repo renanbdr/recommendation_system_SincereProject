{
 "cells": [
  {
   "cell_type": "markdown",
   "metadata": {},
   "source": [
    "# Sincere_etl_data_wrangling "
   ]
  },
  {
   "cell_type": "code",
   "execution_count": 1,
   "metadata": {},
   "outputs": [],
   "source": [
    "# Importing needed libraries\n",
    "import numpy as np\n",
    "import pandas as pd\n",
    "from datetime import datetime\n",
    "import requests\n",
    "from pandas.io.json import json_normalize\n",
    "import json\n",
    "\n",
    "\n",
    "# Blocking warnings\n",
    "import warnings\n",
    "warnings.filterwarnings('ignore')"
   ]
  },
  {
   "cell_type": "markdown",
   "metadata": {},
   "source": [
    "## A) Using OMDb API to extract IMDb data\n",
    "\n",
    "Considering 62.000 movies of movilens dataset, the IMDB aditional movie's information extraction demanded time, computational resources and patience. If you want to skip this part of notebook, start from section B. "
   ]
  },
  {
   "source": [
    "#### MovieLens links.csv\n",
    "\n",
    "Identifiers that can be used to link to other sources of movie data are contained in the file links.csv. Each line of this file after the header row represents one movie, and has the following format:\n",
    "movieId,imdbId,tmdbId\n",
    "movieId is an identifier for movies used by https://movielens.org. E.g., the movie Toy Story has the link https://movielens.org/movies/1.\n",
    "imdbId is an identifier for movies used by http://www.imdb.com. E.g., the movie Toy Story has the link http://www.imdb.com/title/tt0114709/.\n",
    "tmdbId is an identifier for movies used by https://www.themoviedb.org. E.g., the movie Toy Story has the link https://www.themoviedb.org/movie/862.\n"
   ],
   "cell_type": "markdown",
   "metadata": {}
  },
  {
   "source": [
    "#### Movie's aditional information extraction\n",
    "Step by step data collection using the OMDb API - http://www.omdbapi.com/ \n",
    "More information can be found in the Databases - Readme.txt.\n",
    "\n",
    "* We've decided to use the IMDb database to provide more information about the movies listed on the original MovieLens dataset. Using OMDb API, we've been able to extract the following information:\n",
    "    * Title: Movie/Tv Show title.\n",
    "    * Year: Year of production. \n",
    "    * Released: Year of release.\n",
    "    * Genre: List of move genres.\n",
    "    * Director: Name of director.\n",
    "    * Writer: List of Writers.\n",
    "    * Actors: Name of the leading star.\n",
    "    * Language: Language of origin.\n",
    "    * Country: Country of origin (production).\n",
    "    * Awards:Awards nominated and received.\n",
    "    * imdbRating: movie rate based on IMDB users. \n",
    "    * imdbVotes: number of votes a movie received. \n",
    "    * imdbID id of a movie on IDMB database.\n",
    "\n",
    "Our intention is to provide more information to our models in hopes of achieving better clustering results."
   ],
   "cell_type": "markdown",
   "metadata": {}
  },
  {
   "cell_type": "code",
   "execution_count": 2,
   "metadata": {},
   "outputs": [
    {
     "output_type": "execute_result",
     "data": {
      "text/plain": [
       "\"\\n# importing Movilens data with movie codes to be used as key to IMDB database\\ndf_links = pd.read_csv('links.csv')\\n\\n# function to receive api key and change movie id inside the loop\\ndef getUrl(search_id):\\n    url = 'http://www.omdbapi.com/?apikey={}&i=tt{}'.format(api_key, search_id)\\n    return url\\n\\n#API keys\\napi_key = #Insert API key\\n\\n#For imdb scrapping purposes\\n\\ndf_links_column = list(df_links['imdbId'])\\ndf_links_column = [str(item).zfill(8) for item in df_links_column]\\n\\nprint(len(df_links_column))\\ndf_links_column\\n\\n#loop to run selected movie ids and append the returning movie information dict in a list\\nimdb_info = []\\nfor i in range(len(df_links_column)):\\n    results = requests.get(getUrl(df_links_column[i])).json()\\n    imdb_info.append(results)\\n\\n#Checking NaN Titles\\nsum(df_imdb.Title.isnull())\\n\\n#Transforming into Dataframe from Dict\\ndf_imdb = pd.DataFrame.from_dict(imdb_info)\\n\\n#Saving into a csv\\ndf_imdb.to_csv('df_imdb.csv', index = False)\\n\""
      ]
     },
     "metadata": {},
     "execution_count": 2
    }
   ],
   "source": [
    "'''\n",
    "# importing Movilens data with movie codes to be used as key to IMDB database\n",
    "df_links = pd.read_csv('links.csv')\n",
    "\n",
    "# function to receive api key and change movie id inside the loop\n",
    "def getUrl(search_id):\n",
    "    url = 'http://www.omdbapi.com/?apikey={}&i=tt{}'.format(api_key, search_id)\n",
    "    return url\n",
    "\n",
    "#API keys\n",
    "api_key = #Insert API key\n",
    "\n",
    "#For imdb scrapping purposes\n",
    "\n",
    "df_links_column = list(df_links['imdbId'])\n",
    "df_links_column = [str(item).zfill(8) for item in df_links_column]\n",
    "\n",
    "print(len(df_links_column))\n",
    "df_links_column\n",
    "\n",
    "#loop to run selected movie ids and append the returning movie information dict in a list\n",
    "imdb_info = []\n",
    "for i in range(len(df_links_column)):\n",
    "    results = requests.get(getUrl(df_links_column[i])).json()\n",
    "    imdb_info.append(results)\n",
    "\n",
    "#Checking NaN Titles\n",
    "sum(df_imdb.Title.isnull())\n",
    "\n",
    "#Transforming into Dataframe from Dict\n",
    "df_imdb = pd.DataFrame.from_dict(imdb_info)\n",
    "\n",
    "#Saving into a csv\n",
    "df_imdb.to_csv('df_imdb.csv', index = False)\n",
    "'''"
   ]
  },
  {
   "source": [
    "## B) IMDB Data Wrangling"
   ],
   "cell_type": "markdown",
   "metadata": {}
  },
  {
   "cell_type": "code",
   "execution_count": 3,
   "metadata": {},
   "outputs": [],
   "source": [
    "# shortcut | reading from stored intermediate results\n",
    "df_imdb = pd.read_csv('df_imdb.csv')"
   ]
  },
  {
   "cell_type": "code",
   "execution_count": 4,
   "metadata": {},
   "outputs": [],
   "source": [
    "# creating Dataframe with only target columns\n",
    "df_imdb = df_imdb[['imdbID','Genre','Awards','Year','imdbRating','imdbVotes']]\n",
    "\n",
    "# adjusting imdbID to match movielens dataset\n",
    "df_imdb['imdbID'] = df_imdb['imdbID'].str.replace('tt','').astype('int64')\n",
    "df_imdb.rename(columns = {'imdbID': 'imdbId'}, inplace = True)"
   ]
  },
  {
   "cell_type": "code",
   "execution_count": 5,
   "metadata": {},
   "outputs": [
    {
     "output_type": "execute_result",
     "data": {
      "text/plain": [
       "   imdbId                                          Genre  \\\n",
       "0  114709  Animation, Adventure, Comedy, Family, Fantasy   \n",
       "1  113497             Adventure, Comedy, Family, Fantasy   \n",
       "\n",
       "                                              Awards  Year  imdbRating  \\\n",
       "0  Nominated for 3 Oscars. Another 27 wins & 20 n...  1995         8.3   \n",
       "1                           4 wins & 11 nominations.  1995         7.0   \n",
       "\n",
       "  imdbVotes  movieId  \n",
       "0   904,049      1.0  \n",
       "1   314,983      2.0  "
      ],
      "text/html": "<div>\n<style scoped>\n    .dataframe tbody tr th:only-of-type {\n        vertical-align: middle;\n    }\n\n    .dataframe tbody tr th {\n        vertical-align: top;\n    }\n\n    .dataframe thead th {\n        text-align: right;\n    }\n</style>\n<table border=\"1\" class=\"dataframe\">\n  <thead>\n    <tr style=\"text-align: right;\">\n      <th></th>\n      <th>imdbId</th>\n      <th>Genre</th>\n      <th>Awards</th>\n      <th>Year</th>\n      <th>imdbRating</th>\n      <th>imdbVotes</th>\n      <th>movieId</th>\n    </tr>\n  </thead>\n  <tbody>\n    <tr>\n      <th>0</th>\n      <td>114709</td>\n      <td>Animation, Adventure, Comedy, Family, Fantasy</td>\n      <td>Nominated for 3 Oscars. Another 27 wins &amp; 20 n...</td>\n      <td>1995</td>\n      <td>8.3</td>\n      <td>904,049</td>\n      <td>1.0</td>\n    </tr>\n    <tr>\n      <th>1</th>\n      <td>113497</td>\n      <td>Adventure, Comedy, Family, Fantasy</td>\n      <td>4 wins &amp; 11 nominations.</td>\n      <td>1995</td>\n      <td>7.0</td>\n      <td>314,983</td>\n      <td>2.0</td>\n    </tr>\n  </tbody>\n</table>\n</div>"
     },
     "metadata": {},
     "execution_count": 5
    }
   ],
   "source": [
    "# importing movilens data to insert movieId on IMDB dataset\n",
    "df_links = pd.read_csv('links.csv')\n",
    "df_links = df_links[['movieId', 'imdbId']]\n",
    "df_imdb = df_imdb.merge(df_links, on='imdbId', how='left')\n",
    "\n",
    "# checking results\n",
    "df_imdb.head(2)"
   ]
  },
  {
   "source": [
    "### Wrangling Awards"
   ],
   "cell_type": "markdown",
   "metadata": {}
  },
  {
   "cell_type": "code",
   "execution_count": 6,
   "metadata": {},
   "outputs": [],
   "source": [
    "# selecting necessary column\n",
    "df_imdb_awards = df_imdb[['Awards']]\n",
    "\n",
    "# separating words from the string and adding values to each category (oscar, win, nominated)\n",
    "df_imdb_awards['oscar'] = np.where(df_imdb['Awards'].str.contains(\"osca\", case=False, na=False), 5, 0)\n",
    "df_imdb_awards['win'] = np.where(df_imdb['Awards'].str.contains(\"win\", case=False, na=False), 3, 0)\n",
    "df_imdb_awards['nominated'] = np.where(df_imdb['Awards'].str.contains(\"nominat\", case=False, na=False), 1, 0)\n",
    "\n",
    "# loop to ensure nominated fields have proper values\n",
    "for i in range(len(df_imdb_awards['nominated'])):\n",
    "    if df_imdb_awards['nominated'][i] == 0:\n",
    "        if df_imdb_awards['win'][i] != 0:\n",
    "            df_imdb_awards['nominated'][i] = 1\n",
    "        elif df_imdb_awards['oscar'][i] != 0:\n",
    "            df_imdb_awards['nominated'][i] = 1\n",
    "\n",
    "# creating a new column for added values\n",
    "df_imdb_awards['awards_total'] = df_imdb_awards['oscar'] + df_imdb_awards['win'] + df_imdb_awards['nominated']\n",
    "\n",
    "# dropping unecessary columns\n",
    "df_imdb_awards.drop(['Awards','nominated', 'oscar', 'win'], axis = 1, inplace = True)\n",
    "\n",
    "# adding awards count column to main dataframe\n",
    "df_imdb_expanded = df_imdb.join(df_imdb_awards) \n",
    "\n",
    "# dropping original awards column from main dataframe\n",
    "df_imdb_expanded.drop('Awards', axis = 1, inplace = True)"
   ]
  },
  {
   "source": [
    "### Genre wrangling"
   ],
   "cell_type": "markdown",
   "metadata": {}
  },
  {
   "cell_type": "code",
   "execution_count": 7,
   "metadata": {},
   "outputs": [
    {
     "output_type": "execute_result",
     "data": {
      "text/plain": [
       "   imdbId  Year  imdbRating imdbVotes  movieId  awards_total  Action  Adult  \\\n",
       "0  114709  1995         8.3   904,049      1.0             9       0      0   \n",
       "1  113497  1995         7.0   314,983      2.0             4       0      0   \n",
       "\n",
       "   Adventure  Animation  ...  News  Reality-TV  Romance  Sci-Fi  Short  Sport  \\\n",
       "0          1          1  ...     0           0        0       0      0      0   \n",
       "1          1          0  ...     0           0        0       0      0      0   \n",
       "\n",
       "   Talk-Show  Thriller  War  Western  \n",
       "0          0         0    0        0  \n",
       "1          0         0    0        0  \n",
       "\n",
       "[2 rows x 33 columns]"
      ],
      "text/html": "<div>\n<style scoped>\n    .dataframe tbody tr th:only-of-type {\n        vertical-align: middle;\n    }\n\n    .dataframe tbody tr th {\n        vertical-align: top;\n    }\n\n    .dataframe thead th {\n        text-align: right;\n    }\n</style>\n<table border=\"1\" class=\"dataframe\">\n  <thead>\n    <tr style=\"text-align: right;\">\n      <th></th>\n      <th>imdbId</th>\n      <th>Year</th>\n      <th>imdbRating</th>\n      <th>imdbVotes</th>\n      <th>movieId</th>\n      <th>awards_total</th>\n      <th>Action</th>\n      <th>Adult</th>\n      <th>Adventure</th>\n      <th>Animation</th>\n      <th>...</th>\n      <th>News</th>\n      <th>Reality-TV</th>\n      <th>Romance</th>\n      <th>Sci-Fi</th>\n      <th>Short</th>\n      <th>Sport</th>\n      <th>Talk-Show</th>\n      <th>Thriller</th>\n      <th>War</th>\n      <th>Western</th>\n    </tr>\n  </thead>\n  <tbody>\n    <tr>\n      <th>0</th>\n      <td>114709</td>\n      <td>1995</td>\n      <td>8.3</td>\n      <td>904,049</td>\n      <td>1.0</td>\n      <td>9</td>\n      <td>0</td>\n      <td>0</td>\n      <td>1</td>\n      <td>1</td>\n      <td>...</td>\n      <td>0</td>\n      <td>0</td>\n      <td>0</td>\n      <td>0</td>\n      <td>0</td>\n      <td>0</td>\n      <td>0</td>\n      <td>0</td>\n      <td>0</td>\n      <td>0</td>\n    </tr>\n    <tr>\n      <th>1</th>\n      <td>113497</td>\n      <td>1995</td>\n      <td>7.0</td>\n      <td>314,983</td>\n      <td>2.0</td>\n      <td>4</td>\n      <td>0</td>\n      <td>0</td>\n      <td>1</td>\n      <td>0</td>\n      <td>...</td>\n      <td>0</td>\n      <td>0</td>\n      <td>0</td>\n      <td>0</td>\n      <td>0</td>\n      <td>0</td>\n      <td>0</td>\n      <td>0</td>\n      <td>0</td>\n      <td>0</td>\n    </tr>\n  </tbody>\n</table>\n<p>2 rows × 33 columns</p>\n</div>"
     },
     "metadata": {},
     "execution_count": 7
    }
   ],
   "source": [
    "# selecting necessary columns\n",
    "df_imdb_genre = df_imdb[['imdbId','Genre']]\n",
    "\n",
    "# generating dummies for each genre\n",
    "df_imdb_genre = df_imdb_genre.join(df_imdb_genre['Genre'].str.get_dummies(sep=', '))\n",
    "df_imdb_genre.drop('Genre', axis = 1, inplace = True)\n",
    "df_imdb_genre.drop('imdbId', axis = 1, inplace = True)\n",
    "\n",
    "# dropping unecessary column and joining with the main imdb dataset\n",
    "df_imdb_expanded.drop('Genre', axis = 1, inplace = True)\n",
    "df_imdb_expanded = df_imdb_expanded.join(df_imdb_genre)\n",
    "\n",
    "# converting year information to int\n",
    "df_imdb_expanded['Year'] = df_imdb_expanded['Year'].str[:4]\n",
    "df_imdb_expanded['Year'] = df_imdb_expanded['Year'].astype(int)\n",
    "\n",
    "# storing intermediate results\n",
    "df_imdb_expanded.reset_index(drop=True)\n",
    "df_imdb_expanded.to_csv('df_imdb_expanded.csv', index = False)\n",
    "\n",
    "# checking results\n",
    "df_imdb_expanded.head(2)"
   ]
  },
  {
   "cell_type": "code",
   "execution_count": 8,
   "metadata": {},
   "outputs": [
    {
     "output_type": "execute_result",
     "data": {
      "text/plain": [
       "   movieId  year_imdb  age_movie_in_2019\n",
       "0      1.0       1995                 24\n",
       "1      2.0       1995                 24"
      ],
      "text/html": "<div>\n<style scoped>\n    .dataframe tbody tr th:only-of-type {\n        vertical-align: middle;\n    }\n\n    .dataframe tbody tr th {\n        vertical-align: top;\n    }\n\n    .dataframe thead th {\n        text-align: right;\n    }\n</style>\n<table border=\"1\" class=\"dataframe\">\n  <thead>\n    <tr style=\"text-align: right;\">\n      <th></th>\n      <th>movieId</th>\n      <th>year_imdb</th>\n      <th>age_movie_in_2019</th>\n    </tr>\n  </thead>\n  <tbody>\n    <tr>\n      <th>0</th>\n      <td>1.0</td>\n      <td>1995</td>\n      <td>24</td>\n    </tr>\n    <tr>\n      <th>1</th>\n      <td>2.0</td>\n      <td>1995</td>\n      <td>24</td>\n    </tr>\n  </tbody>\n</table>\n</div>"
     },
     "metadata": {},
     "execution_count": 8
    }
   ],
   "source": [
    "# generating a dataset to use on movies wrangling due to Movielens database year missing data\n",
    "df_imdb_year = df_imdb_expanded[['movieId','Year']]\n",
    "\n",
    "# creating a column to calculate the age of the movie in 2019\n",
    "df_imdb_year.rename(columns = {'Year':'year_imdb'}, inplace=True)\n",
    "df_imdb_year['age_movie_in_2019'] = 2019 - df_imdb_year['year_imdb']\n",
    "\n",
    "# storing result in a csv file\n",
    "df_imdb_year.to_csv('df_imdb_year.csv', index = False)\n",
    "\n",
    "# checking results\n",
    "df_imdb_year.head(2)"
   ]
  },
  {
   "cell_type": "markdown",
   "metadata": {},
   "source": [
    "## C) movies.csv wrangling"
   ]
  },
  {
   "cell_type": "code",
   "execution_count": 9,
   "metadata": {},
   "outputs": [],
   "source": [
    "# importing data\n",
    "df_movies = pd.read_csv('movies.csv')"
   ]
  },
  {
   "cell_type": "code",
   "execution_count": 10,
   "metadata": {},
   "outputs": [
    {
     "output_type": "execute_result",
     "data": {
      "text/plain": [
       "   movieId      title\n",
       "0        1  Toy Story\n",
       "1        2    Jumanji"
      ],
      "text/html": "<div>\n<style scoped>\n    .dataframe tbody tr th:only-of-type {\n        vertical-align: middle;\n    }\n\n    .dataframe tbody tr th {\n        vertical-align: top;\n    }\n\n    .dataframe thead th {\n        text-align: right;\n    }\n</style>\n<table border=\"1\" class=\"dataframe\">\n  <thead>\n    <tr style=\"text-align: right;\">\n      <th></th>\n      <th>movieId</th>\n      <th>title</th>\n    </tr>\n  </thead>\n  <tbody>\n    <tr>\n      <th>0</th>\n      <td>1</td>\n      <td>Toy Story</td>\n    </tr>\n    <tr>\n      <th>1</th>\n      <td>2</td>\n      <td>Jumanji</td>\n    </tr>\n  </tbody>\n</table>\n</div>"
     },
     "metadata": {},
     "execution_count": 10
    }
   ],
   "source": [
    "# creating a column to store the year of the movie and checking if there are null values\n",
    "df_movies['year'] = df_movies.title.str.extract(\"\\((\\d{4})\\)\", expand=True)\n",
    "\n",
    "# taking out the year from the title\n",
    "df_movies['title'] = df_movies.title.str.replace('(\\(\\d\\d\\d\\d\\))', '')\n",
    "df_movies['title'] = df_movies['title'].apply(lambda x: x.strip())\n",
    "\n",
    "# dropping unecessary columns (they will be brought back from IMDB database later)\n",
    "df_movies.drop(['genres','year'], inplace=True, axis=1)\n",
    "\n",
    "# checking results\n",
    "df_movies.head(2)"
   ]
  },
  {
   "cell_type": "markdown",
   "metadata": {},
   "source": [
    "## D) Adjusting ratings timestamp information"
   ]
  },
  {
   "cell_type": "code",
   "execution_count": 11,
   "metadata": {},
   "outputs": [],
   "source": [
    "# importing data\n",
    "df_ratings = pd.read_csv('ratings.csv')\n",
    "\n",
    "# creating a new dataframe based on df ratings\n",
    "df_ratings_expanded = df_ratings"
   ]
  },
  {
   "cell_type": "code",
   "execution_count": 12,
   "metadata": {},
   "outputs": [
    {
     "output_type": "execute_result",
     "data": {
      "text/plain": [
       "          userId  movieId  rating  hour weekday year_rated time_of_day\n",
       "0              1      296     5.0    15       3       2006           2\n",
       "1              1      306     3.5    12       3       2006           2\n",
       "2              1      307     5.0    12       3       2006           2\n",
       "3              1      665     5.0    15       3       2006           2\n",
       "4              1      899     3.5    12       3       2006           2\n",
       "...          ...      ...     ...   ...     ...        ...         ...\n",
       "25000090  162541    50872     4.5    21       2       2009           3\n",
       "25000091  162541    55768     2.5    20       2       2009           3\n",
       "25000092  162541    56176     2.0    20       2       2009           3\n",
       "25000093  162541    58559     4.0    21       2       2009           3\n",
       "25000094  162541    63876     5.0    21       2       2009           3\n",
       "\n",
       "[25000095 rows x 7 columns]"
      ],
      "text/html": "<div>\n<style scoped>\n    .dataframe tbody tr th:only-of-type {\n        vertical-align: middle;\n    }\n\n    .dataframe tbody tr th {\n        vertical-align: top;\n    }\n\n    .dataframe thead th {\n        text-align: right;\n    }\n</style>\n<table border=\"1\" class=\"dataframe\">\n  <thead>\n    <tr style=\"text-align: right;\">\n      <th></th>\n      <th>userId</th>\n      <th>movieId</th>\n      <th>rating</th>\n      <th>hour</th>\n      <th>weekday</th>\n      <th>year_rated</th>\n      <th>time_of_day</th>\n    </tr>\n  </thead>\n  <tbody>\n    <tr>\n      <th>0</th>\n      <td>1</td>\n      <td>296</td>\n      <td>5.0</td>\n      <td>15</td>\n      <td>3</td>\n      <td>2006</td>\n      <td>2</td>\n    </tr>\n    <tr>\n      <th>1</th>\n      <td>1</td>\n      <td>306</td>\n      <td>3.5</td>\n      <td>12</td>\n      <td>3</td>\n      <td>2006</td>\n      <td>2</td>\n    </tr>\n    <tr>\n      <th>2</th>\n      <td>1</td>\n      <td>307</td>\n      <td>5.0</td>\n      <td>12</td>\n      <td>3</td>\n      <td>2006</td>\n      <td>2</td>\n    </tr>\n    <tr>\n      <th>3</th>\n      <td>1</td>\n      <td>665</td>\n      <td>5.0</td>\n      <td>15</td>\n      <td>3</td>\n      <td>2006</td>\n      <td>2</td>\n    </tr>\n    <tr>\n      <th>4</th>\n      <td>1</td>\n      <td>899</td>\n      <td>3.5</td>\n      <td>12</td>\n      <td>3</td>\n      <td>2006</td>\n      <td>2</td>\n    </tr>\n    <tr>\n      <th>...</th>\n      <td>...</td>\n      <td>...</td>\n      <td>...</td>\n      <td>...</td>\n      <td>...</td>\n      <td>...</td>\n      <td>...</td>\n    </tr>\n    <tr>\n      <th>25000090</th>\n      <td>162541</td>\n      <td>50872</td>\n      <td>4.5</td>\n      <td>21</td>\n      <td>2</td>\n      <td>2009</td>\n      <td>3</td>\n    </tr>\n    <tr>\n      <th>25000091</th>\n      <td>162541</td>\n      <td>55768</td>\n      <td>2.5</td>\n      <td>20</td>\n      <td>2</td>\n      <td>2009</td>\n      <td>3</td>\n    </tr>\n    <tr>\n      <th>25000092</th>\n      <td>162541</td>\n      <td>56176</td>\n      <td>2.0</td>\n      <td>20</td>\n      <td>2</td>\n      <td>2009</td>\n      <td>3</td>\n    </tr>\n    <tr>\n      <th>25000093</th>\n      <td>162541</td>\n      <td>58559</td>\n      <td>4.0</td>\n      <td>21</td>\n      <td>2</td>\n      <td>2009</td>\n      <td>3</td>\n    </tr>\n    <tr>\n      <th>25000094</th>\n      <td>162541</td>\n      <td>63876</td>\n      <td>5.0</td>\n      <td>21</td>\n      <td>2</td>\n      <td>2009</td>\n      <td>3</td>\n    </tr>\n  </tbody>\n</table>\n<p>25000095 rows × 7 columns</p>\n</div>"
     },
     "metadata": {},
     "execution_count": 12
    }
   ],
   "source": [
    "# adjusting date information format\n",
    "# creating colums to store rating hour and weekday\n",
    "df_ratings_expanded[\"hour\"] = pd.to_datetime(df_ratings_expanded['timestamp'],origin=pd.Timestamp('1970-01-01'), unit='s').dt.strftime('%H').astype(int)\n",
    "df_ratings_expanded[\"weekday\"] = pd.to_datetime(df_ratings_expanded['timestamp'],origin=pd.Timestamp('1970-01-01'), unit='s').dt.strftime('%w')\n",
    "df_ratings_expanded[\"year_rated\"] = pd.to_datetime(df_ratings_expanded['timestamp'],origin=pd.Timestamp('1970-01-01'), unit='s').dt.strftime('%Y')\n",
    "\n",
    "# dropping unecessary column\n",
    "df_ratings_expanded.drop('timestamp', inplace=True, axis=1)\n",
    "\n",
    "# adding label for period of the day according with the rating hours\n",
    "conditionlist = [\n",
    "    (df_ratings_expanded['hour'] >= 6) & (df_ratings_expanded['hour'] < 12), # morning = 1\n",
    "    (df_ratings_expanded['hour'] >= 12) & (df_ratings_expanded['hour'] < 18), # afternoon = 2\n",
    "    (df_ratings_expanded['hour'] >= 18) & (df_ratings_expanded['hour'] <= 23), # evening = 3\n",
    "    (df_ratings_expanded['hour'] >= 0) & (df_ratings_expanded['hour'] < 6)] # night = 4\n",
    "choicelist = [1, 2, 3, 4]\n",
    "df_ratings_expanded['time_of_day'] = np.select(conditionlist, choicelist, default='Not Specified')\n",
    "\n",
    "# checking results\n",
    "df_ratings_expanded"
   ]
  },
  {
   "cell_type": "code",
   "execution_count": 13,
   "metadata": {},
   "outputs": [],
   "source": [
    "# getting dummies \n",
    "df_ratings_expanded = pd.get_dummies(data=df_ratings_expanded, columns=[ 'time_of_day', 'weekday'])"
   ]
  },
  {
   "cell_type": "markdown",
   "metadata": {},
   "source": [
    "## D) Net Promoter Score\n",
    "\n",
    "The Net Promoter Score is an index ranging from -100 to 100 that measures the willingness of customers to recommend a company's products or services to others. It is used as a proxy for gauging the customer's overall satisfaction with a company's product or service and the customer's loyalty to the brand. (Fred Heichheld - 2003)\n",
    "\n",
    "Each movie, using NPS scale, will be graded with the value:\n",
    "* -1 --> when given rating is equal or greater than 3.0 \n",
    "*  0 --> for neutral evaluated movies with given rating of 3.5 and 4.0 \n",
    "* +1 --> movies rating above or iqual to 4.5\n",
    "\n",
    "The NPS for each movie will be calculated using the sum of the given ratings"
   ]
  },
  {
   "cell_type": "code",
   "execution_count": 14,
   "metadata": {},
   "outputs": [
    {
     "output_type": "execute_result",
     "data": {
      "text/plain": [
       "          userId  movieId  rating  hour year_rated  time_of_day_1  \\\n",
       "0              1      296     5.0    15       2006              0   \n",
       "1              1      306     3.5    12       2006              0   \n",
       "2              1      307     5.0    12       2006              0   \n",
       "3              1      665     5.0    15       2006              0   \n",
       "4              1      899     3.5    12       2006              0   \n",
       "...          ...      ...     ...   ...        ...            ...   \n",
       "25000090  162541    50872     4.5    21       2009              0   \n",
       "25000091  162541    55768     2.5    20       2009              0   \n",
       "25000092  162541    56176     2.0    20       2009              0   \n",
       "25000093  162541    58559     4.0    21       2009              0   \n",
       "25000094  162541    63876     5.0    21       2009              0   \n",
       "\n",
       "          time_of_day_2  time_of_day_3  time_of_day_4  weekday_0  weekday_1  \\\n",
       "0                     1              0              0          0          0   \n",
       "1                     1              0              0          0          0   \n",
       "2                     1              0              0          0          0   \n",
       "3                     1              0              0          0          0   \n",
       "4                     1              0              0          0          0   \n",
       "...                 ...            ...            ...        ...        ...   \n",
       "25000090              0              1              0          0          0   \n",
       "25000091              0              1              0          0          0   \n",
       "25000092              0              1              0          0          0   \n",
       "25000093              0              1              0          0          0   \n",
       "25000094              0              1              0          0          0   \n",
       "\n",
       "          weekday_2  weekday_3  weekday_4  weekday_5  weekday_6  NPS  \n",
       "0                 0          1          0          0          0    1  \n",
       "1                 0          1          0          0          0    0  \n",
       "2                 0          1          0          0          0    1  \n",
       "3                 0          1          0          0          0    1  \n",
       "4                 0          1          0          0          0    0  \n",
       "...             ...        ...        ...        ...        ...  ...  \n",
       "25000090          1          0          0          0          0    1  \n",
       "25000091          1          0          0          0          0   -1  \n",
       "25000092          1          0          0          0          0   -1  \n",
       "25000093          1          0          0          0          0    0  \n",
       "25000094          1          0          0          0          0    1  \n",
       "\n",
       "[25000095 rows x 17 columns]"
      ],
      "text/html": "<div>\n<style scoped>\n    .dataframe tbody tr th:only-of-type {\n        vertical-align: middle;\n    }\n\n    .dataframe tbody tr th {\n        vertical-align: top;\n    }\n\n    .dataframe thead th {\n        text-align: right;\n    }\n</style>\n<table border=\"1\" class=\"dataframe\">\n  <thead>\n    <tr style=\"text-align: right;\">\n      <th></th>\n      <th>userId</th>\n      <th>movieId</th>\n      <th>rating</th>\n      <th>hour</th>\n      <th>year_rated</th>\n      <th>time_of_day_1</th>\n      <th>time_of_day_2</th>\n      <th>time_of_day_3</th>\n      <th>time_of_day_4</th>\n      <th>weekday_0</th>\n      <th>weekday_1</th>\n      <th>weekday_2</th>\n      <th>weekday_3</th>\n      <th>weekday_4</th>\n      <th>weekday_5</th>\n      <th>weekday_6</th>\n      <th>NPS</th>\n    </tr>\n  </thead>\n  <tbody>\n    <tr>\n      <th>0</th>\n      <td>1</td>\n      <td>296</td>\n      <td>5.0</td>\n      <td>15</td>\n      <td>2006</td>\n      <td>0</td>\n      <td>1</td>\n      <td>0</td>\n      <td>0</td>\n      <td>0</td>\n      <td>0</td>\n      <td>0</td>\n      <td>1</td>\n      <td>0</td>\n      <td>0</td>\n      <td>0</td>\n      <td>1</td>\n    </tr>\n    <tr>\n      <th>1</th>\n      <td>1</td>\n      <td>306</td>\n      <td>3.5</td>\n      <td>12</td>\n      <td>2006</td>\n      <td>0</td>\n      <td>1</td>\n      <td>0</td>\n      <td>0</td>\n      <td>0</td>\n      <td>0</td>\n      <td>0</td>\n      <td>1</td>\n      <td>0</td>\n      <td>0</td>\n      <td>0</td>\n      <td>0</td>\n    </tr>\n    <tr>\n      <th>2</th>\n      <td>1</td>\n      <td>307</td>\n      <td>5.0</td>\n      <td>12</td>\n      <td>2006</td>\n      <td>0</td>\n      <td>1</td>\n      <td>0</td>\n      <td>0</td>\n      <td>0</td>\n      <td>0</td>\n      <td>0</td>\n      <td>1</td>\n      <td>0</td>\n      <td>0</td>\n      <td>0</td>\n      <td>1</td>\n    </tr>\n    <tr>\n      <th>3</th>\n      <td>1</td>\n      <td>665</td>\n      <td>5.0</td>\n      <td>15</td>\n      <td>2006</td>\n      <td>0</td>\n      <td>1</td>\n      <td>0</td>\n      <td>0</td>\n      <td>0</td>\n      <td>0</td>\n      <td>0</td>\n      <td>1</td>\n      <td>0</td>\n      <td>0</td>\n      <td>0</td>\n      <td>1</td>\n    </tr>\n    <tr>\n      <th>4</th>\n      <td>1</td>\n      <td>899</td>\n      <td>3.5</td>\n      <td>12</td>\n      <td>2006</td>\n      <td>0</td>\n      <td>1</td>\n      <td>0</td>\n      <td>0</td>\n      <td>0</td>\n      <td>0</td>\n      <td>0</td>\n      <td>1</td>\n      <td>0</td>\n      <td>0</td>\n      <td>0</td>\n      <td>0</td>\n    </tr>\n    <tr>\n      <th>...</th>\n      <td>...</td>\n      <td>...</td>\n      <td>...</td>\n      <td>...</td>\n      <td>...</td>\n      <td>...</td>\n      <td>...</td>\n      <td>...</td>\n      <td>...</td>\n      <td>...</td>\n      <td>...</td>\n      <td>...</td>\n      <td>...</td>\n      <td>...</td>\n      <td>...</td>\n      <td>...</td>\n      <td>...</td>\n    </tr>\n    <tr>\n      <th>25000090</th>\n      <td>162541</td>\n      <td>50872</td>\n      <td>4.5</td>\n      <td>21</td>\n      <td>2009</td>\n      <td>0</td>\n      <td>0</td>\n      <td>1</td>\n      <td>0</td>\n      <td>0</td>\n      <td>0</td>\n      <td>1</td>\n      <td>0</td>\n      <td>0</td>\n      <td>0</td>\n      <td>0</td>\n      <td>1</td>\n    </tr>\n    <tr>\n      <th>25000091</th>\n      <td>162541</td>\n      <td>55768</td>\n      <td>2.5</td>\n      <td>20</td>\n      <td>2009</td>\n      <td>0</td>\n      <td>0</td>\n      <td>1</td>\n      <td>0</td>\n      <td>0</td>\n      <td>0</td>\n      <td>1</td>\n      <td>0</td>\n      <td>0</td>\n      <td>0</td>\n      <td>0</td>\n      <td>-1</td>\n    </tr>\n    <tr>\n      <th>25000092</th>\n      <td>162541</td>\n      <td>56176</td>\n      <td>2.0</td>\n      <td>20</td>\n      <td>2009</td>\n      <td>0</td>\n      <td>0</td>\n      <td>1</td>\n      <td>0</td>\n      <td>0</td>\n      <td>0</td>\n      <td>1</td>\n      <td>0</td>\n      <td>0</td>\n      <td>0</td>\n      <td>0</td>\n      <td>-1</td>\n    </tr>\n    <tr>\n      <th>25000093</th>\n      <td>162541</td>\n      <td>58559</td>\n      <td>4.0</td>\n      <td>21</td>\n      <td>2009</td>\n      <td>0</td>\n      <td>0</td>\n      <td>1</td>\n      <td>0</td>\n      <td>0</td>\n      <td>0</td>\n      <td>1</td>\n      <td>0</td>\n      <td>0</td>\n      <td>0</td>\n      <td>0</td>\n      <td>0</td>\n    </tr>\n    <tr>\n      <th>25000094</th>\n      <td>162541</td>\n      <td>63876</td>\n      <td>5.0</td>\n      <td>21</td>\n      <td>2009</td>\n      <td>0</td>\n      <td>0</td>\n      <td>1</td>\n      <td>0</td>\n      <td>0</td>\n      <td>0</td>\n      <td>1</td>\n      <td>0</td>\n      <td>0</td>\n      <td>0</td>\n      <td>0</td>\n      <td>1</td>\n    </tr>\n  </tbody>\n</table>\n<p>25000095 rows × 17 columns</p>\n</div>"
     },
     "metadata": {},
     "execution_count": 14
    }
   ],
   "source": [
    "# adding net promote score to each relation user-movie using ratings\n",
    "conditionlist = [\n",
    "    (df_ratings_expanded['rating'] >=4.5) ,\n",
    "    (df_ratings_expanded['rating'] > 3) & (df_ratings_expanded['rating'] <4.5),\n",
    "    (df_ratings_expanded['rating'] <= 3)]\n",
    "choicelist = [1, 0, -1]\n",
    "df_ratings_expanded['NPS'] = np.select(conditionlist, choicelist, default= 0)\n",
    "\n",
    "# checking results\n",
    "df_ratings_expanded"
   ]
  },
  {
   "source": [
    "## E) Adding IMDB date information"
   ],
   "cell_type": "markdown",
   "metadata": {}
  },
  {
   "cell_type": "code",
   "execution_count": 15,
   "metadata": {},
   "outputs": [
    {
     "output_type": "execute_result",
     "data": {
      "text/plain": [
       "          userId  movieId  rating  hour  year_rated  time_of_day_1  \\\n",
       "0              1      296     5.0    15        2006              0   \n",
       "1              3      296     5.0    14        2015              0   \n",
       "2              4      296     4.0    21        2019              0   \n",
       "3              5      296     4.0    13        1996              0   \n",
       "4              7      296     4.0    11        1996              1   \n",
       "...          ...      ...     ...   ...         ...            ...   \n",
       "24993489  162358   200192     2.0    18        2019              0   \n",
       "24993490  162358   200194     2.0    18        2019              0   \n",
       "24993491  162386   139970     3.5    17        2019              0   \n",
       "24993492  162386   200726     4.0    15        2019              0   \n",
       "24993493  162386   200728     4.0    15        2019              0   \n",
       "\n",
       "          time_of_day_2  time_of_day_3  time_of_day_4  weekday_0  weekday_1  \\\n",
       "0                     1              0              0          0          0   \n",
       "1                     1              0              0          0          0   \n",
       "2                     0              1              0          0          0   \n",
       "3                     1              0              0          0          1   \n",
       "4                     0              0              0          0          0   \n",
       "...                 ...            ...            ...        ...        ...   \n",
       "24993489              0              1              0          1          0   \n",
       "24993490              0              1              0          1          0   \n",
       "24993491              1              0              0          1          0   \n",
       "24993492              1              0              0          1          0   \n",
       "24993493              1              0              0          1          0   \n",
       "\n",
       "          weekday_2  weekday_3  weekday_4  weekday_5  weekday_6  NPS  \\\n",
       "0                 0          1          0          0          0    1   \n",
       "1                 0          0          1          0          0    1   \n",
       "2                 0          0          0          0          1    0   \n",
       "3                 0          0          0          0          0    0   \n",
       "4                 0          0          0          0          1    0   \n",
       "...             ...        ...        ...        ...        ...  ...   \n",
       "24993489          0          0          0          0          0   -1   \n",
       "24993490          0          0          0          0          0   -1   \n",
       "24993491          0          0          0          0          0    0   \n",
       "24993492          0          0          0          0          0    0   \n",
       "24993493          0          0          0          0          0    0   \n",
       "\n",
       "          year_imdb  age_movie_in_2019  age_movie_when_rated  \n",
       "0              1994                 25                    12  \n",
       "1              1994                 25                    21  \n",
       "2              1994                 25                    25  \n",
       "3              1994                 25                     2  \n",
       "4              1994                 25                     2  \n",
       "...             ...                ...                   ...  \n",
       "24993489       1986                 33                    33  \n",
       "24993490       2003                 16                    16  \n",
       "24993491       1995                 24                    24  \n",
       "24993492       1995                 24                    24  \n",
       "24993493       1999                 20                    20  \n",
       "\n",
       "[24993494 rows x 20 columns]"
      ],
      "text/html": "<div>\n<style scoped>\n    .dataframe tbody tr th:only-of-type {\n        vertical-align: middle;\n    }\n\n    .dataframe tbody tr th {\n        vertical-align: top;\n    }\n\n    .dataframe thead th {\n        text-align: right;\n    }\n</style>\n<table border=\"1\" class=\"dataframe\">\n  <thead>\n    <tr style=\"text-align: right;\">\n      <th></th>\n      <th>userId</th>\n      <th>movieId</th>\n      <th>rating</th>\n      <th>hour</th>\n      <th>year_rated</th>\n      <th>time_of_day_1</th>\n      <th>time_of_day_2</th>\n      <th>time_of_day_3</th>\n      <th>time_of_day_4</th>\n      <th>weekday_0</th>\n      <th>weekday_1</th>\n      <th>weekday_2</th>\n      <th>weekday_3</th>\n      <th>weekday_4</th>\n      <th>weekday_5</th>\n      <th>weekday_6</th>\n      <th>NPS</th>\n      <th>year_imdb</th>\n      <th>age_movie_in_2019</th>\n      <th>age_movie_when_rated</th>\n    </tr>\n  </thead>\n  <tbody>\n    <tr>\n      <th>0</th>\n      <td>1</td>\n      <td>296</td>\n      <td>5.0</td>\n      <td>15</td>\n      <td>2006</td>\n      <td>0</td>\n      <td>1</td>\n      <td>0</td>\n      <td>0</td>\n      <td>0</td>\n      <td>0</td>\n      <td>0</td>\n      <td>1</td>\n      <td>0</td>\n      <td>0</td>\n      <td>0</td>\n      <td>1</td>\n      <td>1994</td>\n      <td>25</td>\n      <td>12</td>\n    </tr>\n    <tr>\n      <th>1</th>\n      <td>3</td>\n      <td>296</td>\n      <td>5.0</td>\n      <td>14</td>\n      <td>2015</td>\n      <td>0</td>\n      <td>1</td>\n      <td>0</td>\n      <td>0</td>\n      <td>0</td>\n      <td>0</td>\n      <td>0</td>\n      <td>0</td>\n      <td>1</td>\n      <td>0</td>\n      <td>0</td>\n      <td>1</td>\n      <td>1994</td>\n      <td>25</td>\n      <td>21</td>\n    </tr>\n    <tr>\n      <th>2</th>\n      <td>4</td>\n      <td>296</td>\n      <td>4.0</td>\n      <td>21</td>\n      <td>2019</td>\n      <td>0</td>\n      <td>0</td>\n      <td>1</td>\n      <td>0</td>\n      <td>0</td>\n      <td>0</td>\n      <td>0</td>\n      <td>0</td>\n      <td>0</td>\n      <td>0</td>\n      <td>1</td>\n      <td>0</td>\n      <td>1994</td>\n      <td>25</td>\n      <td>25</td>\n    </tr>\n    <tr>\n      <th>3</th>\n      <td>5</td>\n      <td>296</td>\n      <td>4.0</td>\n      <td>13</td>\n      <td>1996</td>\n      <td>0</td>\n      <td>1</td>\n      <td>0</td>\n      <td>0</td>\n      <td>0</td>\n      <td>1</td>\n      <td>0</td>\n      <td>0</td>\n      <td>0</td>\n      <td>0</td>\n      <td>0</td>\n      <td>0</td>\n      <td>1994</td>\n      <td>25</td>\n      <td>2</td>\n    </tr>\n    <tr>\n      <th>4</th>\n      <td>7</td>\n      <td>296</td>\n      <td>4.0</td>\n      <td>11</td>\n      <td>1996</td>\n      <td>1</td>\n      <td>0</td>\n      <td>0</td>\n      <td>0</td>\n      <td>0</td>\n      <td>0</td>\n      <td>0</td>\n      <td>0</td>\n      <td>0</td>\n      <td>0</td>\n      <td>1</td>\n      <td>0</td>\n      <td>1994</td>\n      <td>25</td>\n      <td>2</td>\n    </tr>\n    <tr>\n      <th>...</th>\n      <td>...</td>\n      <td>...</td>\n      <td>...</td>\n      <td>...</td>\n      <td>...</td>\n      <td>...</td>\n      <td>...</td>\n      <td>...</td>\n      <td>...</td>\n      <td>...</td>\n      <td>...</td>\n      <td>...</td>\n      <td>...</td>\n      <td>...</td>\n      <td>...</td>\n      <td>...</td>\n      <td>...</td>\n      <td>...</td>\n      <td>...</td>\n      <td>...</td>\n    </tr>\n    <tr>\n      <th>24993489</th>\n      <td>162358</td>\n      <td>200192</td>\n      <td>2.0</td>\n      <td>18</td>\n      <td>2019</td>\n      <td>0</td>\n      <td>0</td>\n      <td>1</td>\n      <td>0</td>\n      <td>1</td>\n      <td>0</td>\n      <td>0</td>\n      <td>0</td>\n      <td>0</td>\n      <td>0</td>\n      <td>0</td>\n      <td>-1</td>\n      <td>1986</td>\n      <td>33</td>\n      <td>33</td>\n    </tr>\n    <tr>\n      <th>24993490</th>\n      <td>162358</td>\n      <td>200194</td>\n      <td>2.0</td>\n      <td>18</td>\n      <td>2019</td>\n      <td>0</td>\n      <td>0</td>\n      <td>1</td>\n      <td>0</td>\n      <td>1</td>\n      <td>0</td>\n      <td>0</td>\n      <td>0</td>\n      <td>0</td>\n      <td>0</td>\n      <td>0</td>\n      <td>-1</td>\n      <td>2003</td>\n      <td>16</td>\n      <td>16</td>\n    </tr>\n    <tr>\n      <th>24993491</th>\n      <td>162386</td>\n      <td>139970</td>\n      <td>3.5</td>\n      <td>17</td>\n      <td>2019</td>\n      <td>0</td>\n      <td>1</td>\n      <td>0</td>\n      <td>0</td>\n      <td>1</td>\n      <td>0</td>\n      <td>0</td>\n      <td>0</td>\n      <td>0</td>\n      <td>0</td>\n      <td>0</td>\n      <td>0</td>\n      <td>1995</td>\n      <td>24</td>\n      <td>24</td>\n    </tr>\n    <tr>\n      <th>24993492</th>\n      <td>162386</td>\n      <td>200726</td>\n      <td>4.0</td>\n      <td>15</td>\n      <td>2019</td>\n      <td>0</td>\n      <td>1</td>\n      <td>0</td>\n      <td>0</td>\n      <td>1</td>\n      <td>0</td>\n      <td>0</td>\n      <td>0</td>\n      <td>0</td>\n      <td>0</td>\n      <td>0</td>\n      <td>0</td>\n      <td>1995</td>\n      <td>24</td>\n      <td>24</td>\n    </tr>\n    <tr>\n      <th>24993493</th>\n      <td>162386</td>\n      <td>200728</td>\n      <td>4.0</td>\n      <td>15</td>\n      <td>2019</td>\n      <td>0</td>\n      <td>1</td>\n      <td>0</td>\n      <td>0</td>\n      <td>1</td>\n      <td>0</td>\n      <td>0</td>\n      <td>0</td>\n      <td>0</td>\n      <td>0</td>\n      <td>0</td>\n      <td>0</td>\n      <td>1999</td>\n      <td>20</td>\n      <td>20</td>\n    </tr>\n  </tbody>\n</table>\n<p>24993494 rows × 20 columns</p>\n</div>"
     },
     "metadata": {},
     "execution_count": 15
    }
   ],
   "source": [
    "# importing data\n",
    "df_imdb_year = pd.read_csv('df_imdb_year.csv')\n",
    "\n",
    "# merging datasets\n",
    "df_ratings_expanded = pd.merge(df_ratings_expanded, df_imdb_year, on='movieId', how='inner')\n",
    "\n",
    "# converting year columns into interger\n",
    "df_ratings_expanded['year_rated'] = df_ratings_expanded['year_rated'].astype(int)\n",
    "\n",
    "# creating a column to calculate the age of the movie when rated\n",
    "df_ratings_expanded['age_movie_when_rated'] = df_ratings_expanded['year_rated'] - df_ratings_expanded['year_imdb']\n",
    "\n",
    "# checking results\n",
    "df_ratings_expanded"
   ]
  },
  {
   "cell_type": "code",
   "execution_count": 16,
   "metadata": {},
   "outputs": [],
   "source": [
    "# dropping no longer necessary columns\n",
    "df_ratings_expanded.drop(['year_imdb','hour','year_rated'], inplace=True, axis=1)\n",
    "\n",
    "# storing intermediate results on csv file\n",
    "df_ratings_expanded.reset_index(drop=True)\n",
    "df_ratings_expanded.to_csv('df_ratings_by_time.csv', index=False)"
   ]
  },
  {
   "cell_type": "markdown",
   "metadata": {},
   "source": [
    "## F) Resuming ratings by movieId"
   ]
  },
  {
   "cell_type": "code",
   "execution_count": 17,
   "metadata": {},
   "outputs": [],
   "source": [
    "# shortcut | reading from stored intermediate results\n",
    "# df_ratings_expanded = pd.read_csv('df_ratings_by_time.csv')"
   ]
  },
  {
   "cell_type": "code",
   "execution_count": 18,
   "metadata": {},
   "outputs": [
    {
     "output_type": "execute_result",
     "data": {
      "text/plain": [
       "   movieId      title   userId    rating  age_movie_in_2019  \\\n",
       "0        1  Toy Story  57309.0  3.893708               24.0   \n",
       "1        2    Jumanji  24228.0  3.251527               24.0   \n",
       "\n",
       "   age_movie_when_rated      NPS  time_of_day_1  time_of_day_2  time_of_day_3  \\\n",
       "0             11.041425   4713.0        10574.0        15071.0        18313.0   \n",
       "1             10.039830 -10415.0         4749.0         6574.0         7689.0   \n",
       "\n",
       "   time_of_day_4  weekday_0  weekday_1  weekday_2  weekday_3  weekday_4  \\\n",
       "0        13351.0     8308.0     8887.0     8671.0     8151.0     7595.0   \n",
       "1         5216.0     3522.0     3557.0     3654.0     3597.0     3226.0   \n",
       "\n",
       "   weekday_5  weekday_6  \n",
       "0     7965.0     7732.0  \n",
       "1     3379.0     3293.0  "
      ],
      "text/html": "<div>\n<style scoped>\n    .dataframe tbody tr th:only-of-type {\n        vertical-align: middle;\n    }\n\n    .dataframe tbody tr th {\n        vertical-align: top;\n    }\n\n    .dataframe thead th {\n        text-align: right;\n    }\n</style>\n<table border=\"1\" class=\"dataframe\">\n  <thead>\n    <tr style=\"text-align: right;\">\n      <th></th>\n      <th>movieId</th>\n      <th>title</th>\n      <th>userId</th>\n      <th>rating</th>\n      <th>age_movie_in_2019</th>\n      <th>age_movie_when_rated</th>\n      <th>NPS</th>\n      <th>time_of_day_1</th>\n      <th>time_of_day_2</th>\n      <th>time_of_day_3</th>\n      <th>time_of_day_4</th>\n      <th>weekday_0</th>\n      <th>weekday_1</th>\n      <th>weekday_2</th>\n      <th>weekday_3</th>\n      <th>weekday_4</th>\n      <th>weekday_5</th>\n      <th>weekday_6</th>\n    </tr>\n  </thead>\n  <tbody>\n    <tr>\n      <th>0</th>\n      <td>1</td>\n      <td>Toy Story</td>\n      <td>57309.0</td>\n      <td>3.893708</td>\n      <td>24.0</td>\n      <td>11.041425</td>\n      <td>4713.0</td>\n      <td>10574.0</td>\n      <td>15071.0</td>\n      <td>18313.0</td>\n      <td>13351.0</td>\n      <td>8308.0</td>\n      <td>8887.0</td>\n      <td>8671.0</td>\n      <td>8151.0</td>\n      <td>7595.0</td>\n      <td>7965.0</td>\n      <td>7732.0</td>\n    </tr>\n    <tr>\n      <th>1</th>\n      <td>2</td>\n      <td>Jumanji</td>\n      <td>24228.0</td>\n      <td>3.251527</td>\n      <td>24.0</td>\n      <td>10.039830</td>\n      <td>-10415.0</td>\n      <td>4749.0</td>\n      <td>6574.0</td>\n      <td>7689.0</td>\n      <td>5216.0</td>\n      <td>3522.0</td>\n      <td>3557.0</td>\n      <td>3654.0</td>\n      <td>3597.0</td>\n      <td>3226.0</td>\n      <td>3379.0</td>\n      <td>3293.0</td>\n    </tr>\n  </tbody>\n</table>\n</div>"
     },
     "metadata": {},
     "execution_count": 18
    }
   ],
   "source": [
    "# columns summarized by count\n",
    "df_movie_ratings_count = df_ratings_expanded[['movieId', 'userId']] \n",
    "df_movie_ratings_count = df_movie_ratings_count.groupby(['movieId']).count().reset_index()\n",
    "\n",
    "# columns summarized by average\n",
    "df_movies_ratings_mean = df_ratings_expanded[['movieId', 'rating', 'age_movie_in_2019', 'age_movie_when_rated']]\n",
    "df_movies_ratings_mean = df_movies_ratings_mean.groupby(['movieId']).mean().reset_index()\n",
    "\n",
    "# columns summarized by sum\n",
    "df_movies_ratings_sum = df_ratings_expanded[['movieId', 'NPS','time_of_day_1','time_of_day_2','time_of_day_3','time_of_day_4','weekday_0','weekday_1','weekday_2','weekday_3','weekday_4','weekday_5','weekday_6']]\n",
    "df_movies_ratings_sum = df_movies_ratings_sum.groupby(['movieId']).sum().reset_index()\n",
    "\n",
    "# merging results\n",
    "df_movies_voting_profile = df_movie_ratings_count.merge(df_movies_ratings_mean, on='movieId', how='left')\n",
    "df_movies_voting_profile = df_movies_voting_profile.merge(df_movies_ratings_sum, on='movieId', how='left')\n",
    "df_movies_voting_profile = df_movies.merge(df_movies_voting_profile, on='movieId', how='outer')\n",
    "\n",
    "# checking results\n",
    "df_movies_voting_profile.head(2)"
   ]
  },
  {
   "cell_type": "code",
   "execution_count": 19,
   "metadata": {},
   "outputs": [],
   "source": [
    "# storing intermediate results on csv file\n",
    "df_movies_voting_profile = df_movies_voting_profile.reset_index(drop=True)\n",
    "df_movies_voting_profile.to_csv('df_movies_movielens.csv', index=False)"
   ]
  },
  {
   "cell_type": "markdown",
   "metadata": {},
   "source": [
    "## G)  Creating movies dataset for Kmeans Clustering"
   ]
  },
  {
   "cell_type": "code",
   "execution_count": 20,
   "metadata": {},
   "outputs": [],
   "source": [
    "# shortcut | reading from stored intermediate results\n",
    "#df_imdb_expanded = pd.read_csv('df_imdb_expanded.csv')\n",
    "#df_movies_voting_profile = pd.read_csv('df_movies_movielens.csv')"
   ]
  },
  {
   "source": [
    "### Joining movies data from IMDB and MovieLens "
   ],
   "cell_type": "markdown",
   "metadata": {}
  },
  {
   "cell_type": "code",
   "execution_count": 21,
   "metadata": {},
   "outputs": [],
   "source": [
    "# merging imdb and movielens datasets\n",
    "df_movies_4kmeans = df_movies_voting_profile.merge(df_imdb_expanded, on='movieId', how='inner')\n",
    "\n",
    "# droping 3375 not found on IMDB database\n",
    "df_movies_4kmeans = df_movies_4kmeans.dropna()"
   ]
  },
  {
   "source": [
    "### Data wrangling for clustering"
   ],
   "cell_type": "markdown",
   "metadata": {}
  },
  {
   "cell_type": "code",
   "execution_count": 22,
   "metadata": {},
   "outputs": [
    {
     "output_type": "execute_result",
     "data": {
      "text/plain": [
       "   movieId      title  voting_count  avg_rate  age_movie_in_2019  \\\n",
       "0        1  Toy Story       57309.0  3.893708               24.0   \n",
       "1        2    Jumanji       24228.0  3.251527               24.0   \n",
       "\n",
       "   age_movie_when_rated      NPS  time_of_day_1  time_of_day_2  time_of_day_3  \\\n",
       "0             11.041425   4713.0        10574.0        15071.0        18313.0   \n",
       "1             10.039830 -10415.0         4749.0         6574.0         7689.0   \n",
       "\n",
       "   ...  News  Reality-TV  Romance  Sci-Fi  Short  Sport  Talk-Show  Thriller  \\\n",
       "0  ...     0           0        0       0      0      0          0         0   \n",
       "1  ...     0           0        0       0      0      0          0         0   \n",
       "\n",
       "   War  Western  \n",
       "0    0        0  \n",
       "1    0        0  \n",
       "\n",
       "[2 rows x 50 columns]"
      ],
      "text/html": "<div>\n<style scoped>\n    .dataframe tbody tr th:only-of-type {\n        vertical-align: middle;\n    }\n\n    .dataframe tbody tr th {\n        vertical-align: top;\n    }\n\n    .dataframe thead th {\n        text-align: right;\n    }\n</style>\n<table border=\"1\" class=\"dataframe\">\n  <thead>\n    <tr style=\"text-align: right;\">\n      <th></th>\n      <th>movieId</th>\n      <th>title</th>\n      <th>voting_count</th>\n      <th>avg_rate</th>\n      <th>age_movie_in_2019</th>\n      <th>age_movie_when_rated</th>\n      <th>NPS</th>\n      <th>time_of_day_1</th>\n      <th>time_of_day_2</th>\n      <th>time_of_day_3</th>\n      <th>...</th>\n      <th>News</th>\n      <th>Reality-TV</th>\n      <th>Romance</th>\n      <th>Sci-Fi</th>\n      <th>Short</th>\n      <th>Sport</th>\n      <th>Talk-Show</th>\n      <th>Thriller</th>\n      <th>War</th>\n      <th>Western</th>\n    </tr>\n  </thead>\n  <tbody>\n    <tr>\n      <th>0</th>\n      <td>1</td>\n      <td>Toy Story</td>\n      <td>57309.0</td>\n      <td>3.893708</td>\n      <td>24.0</td>\n      <td>11.041425</td>\n      <td>4713.0</td>\n      <td>10574.0</td>\n      <td>15071.0</td>\n      <td>18313.0</td>\n      <td>...</td>\n      <td>0</td>\n      <td>0</td>\n      <td>0</td>\n      <td>0</td>\n      <td>0</td>\n      <td>0</td>\n      <td>0</td>\n      <td>0</td>\n      <td>0</td>\n      <td>0</td>\n    </tr>\n    <tr>\n      <th>1</th>\n      <td>2</td>\n      <td>Jumanji</td>\n      <td>24228.0</td>\n      <td>3.251527</td>\n      <td>24.0</td>\n      <td>10.039830</td>\n      <td>-10415.0</td>\n      <td>4749.0</td>\n      <td>6574.0</td>\n      <td>7689.0</td>\n      <td>...</td>\n      <td>0</td>\n      <td>0</td>\n      <td>0</td>\n      <td>0</td>\n      <td>0</td>\n      <td>0</td>\n      <td>0</td>\n      <td>0</td>\n      <td>0</td>\n      <td>0</td>\n    </tr>\n  </tbody>\n</table>\n<p>2 rows × 50 columns</p>\n</div>"
     },
     "metadata": {},
     "execution_count": 22
    }
   ],
   "source": [
    "# Renaming columns\n",
    "df_movies_4kmeans.rename(columns = {'userId':'voting_count', 'rating':'avg_rate'}, inplace = True)\n",
    "df_movies_4kmeans['imdbVotes'] = df_movies_4kmeans['imdbVotes'].str.replace(',','').astype(int)\n",
    "\n",
    "# checking results\n",
    "df_movies_4kmeans.head(2)"
   ]
  },
  {
   "cell_type": "code",
   "execution_count": 23,
   "metadata": {},
   "outputs": [
    {
     "output_type": "execute_result",
     "data": {
      "text/plain": [
       "   movieId      title  voting_count  avg_rate  age_movie_in_2019  \\\n",
       "0        1  Toy Story       57309.0  3.893708               24.0   \n",
       "1        2    Jumanji       24228.0  3.251527               24.0   \n",
       "\n",
       "   age_movie_when_rated      NPS  time_of_day_1  time_of_day_2  time_of_day_3  \\\n",
       "0             11.041425   4713.0        10574.0        15071.0        18313.0   \n",
       "1             10.039830 -10415.0         4749.0         6574.0         7689.0   \n",
       "\n",
       "   ...  News  Reality-TV  Romance  Sci-Fi  Short  Sport  Talk-Show  Thriller  \\\n",
       "0  ...     0           0        0       0      0      0          0         0   \n",
       "1  ...     0           0        0       0      0      0          0         0   \n",
       "\n",
       "   War  Western  \n",
       "0    0        0  \n",
       "1    0        0  \n",
       "\n",
       "[2 rows x 50 columns]"
      ],
      "text/html": "<div>\n<style scoped>\n    .dataframe tbody tr th:only-of-type {\n        vertical-align: middle;\n    }\n\n    .dataframe tbody tr th {\n        vertical-align: top;\n    }\n\n    .dataframe thead th {\n        text-align: right;\n    }\n</style>\n<table border=\"1\" class=\"dataframe\">\n  <thead>\n    <tr style=\"text-align: right;\">\n      <th></th>\n      <th>movieId</th>\n      <th>title</th>\n      <th>voting_count</th>\n      <th>avg_rate</th>\n      <th>age_movie_in_2019</th>\n      <th>age_movie_when_rated</th>\n      <th>NPS</th>\n      <th>time_of_day_1</th>\n      <th>time_of_day_2</th>\n      <th>time_of_day_3</th>\n      <th>...</th>\n      <th>News</th>\n      <th>Reality-TV</th>\n      <th>Romance</th>\n      <th>Sci-Fi</th>\n      <th>Short</th>\n      <th>Sport</th>\n      <th>Talk-Show</th>\n      <th>Thriller</th>\n      <th>War</th>\n      <th>Western</th>\n    </tr>\n  </thead>\n  <tbody>\n    <tr>\n      <th>0</th>\n      <td>1</td>\n      <td>Toy Story</td>\n      <td>57309.0</td>\n      <td>3.893708</td>\n      <td>24.0</td>\n      <td>11.041425</td>\n      <td>4713.0</td>\n      <td>10574.0</td>\n      <td>15071.0</td>\n      <td>18313.0</td>\n      <td>...</td>\n      <td>0</td>\n      <td>0</td>\n      <td>0</td>\n      <td>0</td>\n      <td>0</td>\n      <td>0</td>\n      <td>0</td>\n      <td>0</td>\n      <td>0</td>\n      <td>0</td>\n    </tr>\n    <tr>\n      <th>1</th>\n      <td>2</td>\n      <td>Jumanji</td>\n      <td>24228.0</td>\n      <td>3.251527</td>\n      <td>24.0</td>\n      <td>10.039830</td>\n      <td>-10415.0</td>\n      <td>4749.0</td>\n      <td>6574.0</td>\n      <td>7689.0</td>\n      <td>...</td>\n      <td>0</td>\n      <td>0</td>\n      <td>0</td>\n      <td>0</td>\n      <td>0</td>\n      <td>0</td>\n      <td>0</td>\n      <td>0</td>\n      <td>0</td>\n      <td>0</td>\n    </tr>\n  </tbody>\n</table>\n<p>2 rows × 50 columns</p>\n</div>"
     },
     "metadata": {},
     "execution_count": 23
    }
   ],
   "source": [
    "# storing results in csv file\n",
    "df_movies_4kmeans = df_movies_4kmeans.reset_index(drop=True)\n",
    "df_movies_4kmeans.to_csv('df_movies_4kmeans.csv', index=False)\n",
    "\n",
    "# checking results\n",
    "df_movies_4kmeans.head(2)"
   ]
  },
  {
   "cell_type": "markdown",
   "metadata": {},
   "source": [
    "## H) Resuming ratings by userId"
   ]
  },
  {
   "cell_type": "code",
   "execution_count": 24,
   "metadata": {},
   "outputs": [
    {
     "output_type": "execute_result",
     "data": {
      "text/plain": [
       "        userId  movieId    rating  age_movie_in_2019  age_movie_when_rated  \\\n",
       "0            1       70  3.814286          33.657143             20.657143   \n",
       "1            2      184  3.630435          25.891304             12.891304   \n",
       "2            3      656  3.697409          14.434451             11.641768   \n",
       "3            4      242  3.378099          14.090909             14.090909   \n",
       "4            5      101  3.752475          27.524752              5.049505   \n",
       "...        ...      ...       ...                ...                   ...   \n",
       "162536  162537      101  4.039604          27.118812             11.118812   \n",
       "162537  162538      154  3.415584          19.844156             15.844156   \n",
       "162538  162539       47  4.510638          36.319149             18.319149   \n",
       "162539  162540       88  3.829545          16.431818              6.431818   \n",
       "162540  162541      182  3.365385          28.186813             18.186813   \n",
       "\n",
       "        NPS  time_of_day_1  time_of_day_2  time_of_day_3  time_of_day_4  \\\n",
       "0         7              0             70              0              0   \n",
       "1        25              0              0            184              0   \n",
       "2       -83              0            501              0            155   \n",
       "3       -32              0              0            240              2   \n",
       "4       -17              6             37             57              1   \n",
       "...     ...            ...            ...            ...            ...   \n",
       "162536   12              0              0              0            101   \n",
       "162537  -12              0            154              0              0   \n",
       "162538   25              0              0             47              0   \n",
       "162539   17             88              0              0              0   \n",
       "162540  -27              0              0            182              0   \n",
       "\n",
       "        weekday_0  weekday_1  weekday_2  weekday_3  weekday_4  weekday_5  \\\n",
       "0               0          0          0         70          0          0   \n",
       "1               0          0          0          0          0        184   \n",
       "2             155          0          0         90        402          9   \n",
       "3               0          3          6          0          0          0   \n",
       "4              10         90          0          0          0          1   \n",
       "...           ...        ...        ...        ...        ...        ...   \n",
       "162536        101          0          0          0          0          0   \n",
       "162537          0          0          0        154          0          0   \n",
       "162538          0          0          0          0          0          0   \n",
       "162539          0          0          0         76          0         12   \n",
       "162540          0          0        182          0          0          0   \n",
       "\n",
       "        weekday_6  \n",
       "0               0  \n",
       "1               0  \n",
       "2               0  \n",
       "3             233  \n",
       "4               0  \n",
       "...           ...  \n",
       "162536          0  \n",
       "162537          0  \n",
       "162538         47  \n",
       "162539          0  \n",
       "162540          0  \n",
       "\n",
       "[162541 rows x 17 columns]"
      ],
      "text/html": "<div>\n<style scoped>\n    .dataframe tbody tr th:only-of-type {\n        vertical-align: middle;\n    }\n\n    .dataframe tbody tr th {\n        vertical-align: top;\n    }\n\n    .dataframe thead th {\n        text-align: right;\n    }\n</style>\n<table border=\"1\" class=\"dataframe\">\n  <thead>\n    <tr style=\"text-align: right;\">\n      <th></th>\n      <th>userId</th>\n      <th>movieId</th>\n      <th>rating</th>\n      <th>age_movie_in_2019</th>\n      <th>age_movie_when_rated</th>\n      <th>NPS</th>\n      <th>time_of_day_1</th>\n      <th>time_of_day_2</th>\n      <th>time_of_day_3</th>\n      <th>time_of_day_4</th>\n      <th>weekday_0</th>\n      <th>weekday_1</th>\n      <th>weekday_2</th>\n      <th>weekday_3</th>\n      <th>weekday_4</th>\n      <th>weekday_5</th>\n      <th>weekday_6</th>\n    </tr>\n  </thead>\n  <tbody>\n    <tr>\n      <th>0</th>\n      <td>1</td>\n      <td>70</td>\n      <td>3.814286</td>\n      <td>33.657143</td>\n      <td>20.657143</td>\n      <td>7</td>\n      <td>0</td>\n      <td>70</td>\n      <td>0</td>\n      <td>0</td>\n      <td>0</td>\n      <td>0</td>\n      <td>0</td>\n      <td>70</td>\n      <td>0</td>\n      <td>0</td>\n      <td>0</td>\n    </tr>\n    <tr>\n      <th>1</th>\n      <td>2</td>\n      <td>184</td>\n      <td>3.630435</td>\n      <td>25.891304</td>\n      <td>12.891304</td>\n      <td>25</td>\n      <td>0</td>\n      <td>0</td>\n      <td>184</td>\n      <td>0</td>\n      <td>0</td>\n      <td>0</td>\n      <td>0</td>\n      <td>0</td>\n      <td>0</td>\n      <td>184</td>\n      <td>0</td>\n    </tr>\n    <tr>\n      <th>2</th>\n      <td>3</td>\n      <td>656</td>\n      <td>3.697409</td>\n      <td>14.434451</td>\n      <td>11.641768</td>\n      <td>-83</td>\n      <td>0</td>\n      <td>501</td>\n      <td>0</td>\n      <td>155</td>\n      <td>155</td>\n      <td>0</td>\n      <td>0</td>\n      <td>90</td>\n      <td>402</td>\n      <td>9</td>\n      <td>0</td>\n    </tr>\n    <tr>\n      <th>3</th>\n      <td>4</td>\n      <td>242</td>\n      <td>3.378099</td>\n      <td>14.090909</td>\n      <td>14.090909</td>\n      <td>-32</td>\n      <td>0</td>\n      <td>0</td>\n      <td>240</td>\n      <td>2</td>\n      <td>0</td>\n      <td>3</td>\n      <td>6</td>\n      <td>0</td>\n      <td>0</td>\n      <td>0</td>\n      <td>233</td>\n    </tr>\n    <tr>\n      <th>4</th>\n      <td>5</td>\n      <td>101</td>\n      <td>3.752475</td>\n      <td>27.524752</td>\n      <td>5.049505</td>\n      <td>-17</td>\n      <td>6</td>\n      <td>37</td>\n      <td>57</td>\n      <td>1</td>\n      <td>10</td>\n      <td>90</td>\n      <td>0</td>\n      <td>0</td>\n      <td>0</td>\n      <td>1</td>\n      <td>0</td>\n    </tr>\n    <tr>\n      <th>...</th>\n      <td>...</td>\n      <td>...</td>\n      <td>...</td>\n      <td>...</td>\n      <td>...</td>\n      <td>...</td>\n      <td>...</td>\n      <td>...</td>\n      <td>...</td>\n      <td>...</td>\n      <td>...</td>\n      <td>...</td>\n      <td>...</td>\n      <td>...</td>\n      <td>...</td>\n      <td>...</td>\n      <td>...</td>\n    </tr>\n    <tr>\n      <th>162536</th>\n      <td>162537</td>\n      <td>101</td>\n      <td>4.039604</td>\n      <td>27.118812</td>\n      <td>11.118812</td>\n      <td>12</td>\n      <td>0</td>\n      <td>0</td>\n      <td>0</td>\n      <td>101</td>\n      <td>101</td>\n      <td>0</td>\n      <td>0</td>\n      <td>0</td>\n      <td>0</td>\n      <td>0</td>\n      <td>0</td>\n    </tr>\n    <tr>\n      <th>162537</th>\n      <td>162538</td>\n      <td>154</td>\n      <td>3.415584</td>\n      <td>19.844156</td>\n      <td>15.844156</td>\n      <td>-12</td>\n      <td>0</td>\n      <td>154</td>\n      <td>0</td>\n      <td>0</td>\n      <td>0</td>\n      <td>0</td>\n      <td>0</td>\n      <td>154</td>\n      <td>0</td>\n      <td>0</td>\n      <td>0</td>\n    </tr>\n    <tr>\n      <th>162538</th>\n      <td>162539</td>\n      <td>47</td>\n      <td>4.510638</td>\n      <td>36.319149</td>\n      <td>18.319149</td>\n      <td>25</td>\n      <td>0</td>\n      <td>0</td>\n      <td>47</td>\n      <td>0</td>\n      <td>0</td>\n      <td>0</td>\n      <td>0</td>\n      <td>0</td>\n      <td>0</td>\n      <td>0</td>\n      <td>47</td>\n    </tr>\n    <tr>\n      <th>162539</th>\n      <td>162540</td>\n      <td>88</td>\n      <td>3.829545</td>\n      <td>16.431818</td>\n      <td>6.431818</td>\n      <td>17</td>\n      <td>88</td>\n      <td>0</td>\n      <td>0</td>\n      <td>0</td>\n      <td>0</td>\n      <td>0</td>\n      <td>0</td>\n      <td>76</td>\n      <td>0</td>\n      <td>12</td>\n      <td>0</td>\n    </tr>\n    <tr>\n      <th>162540</th>\n      <td>162541</td>\n      <td>182</td>\n      <td>3.365385</td>\n      <td>28.186813</td>\n      <td>18.186813</td>\n      <td>-27</td>\n      <td>0</td>\n      <td>0</td>\n      <td>182</td>\n      <td>0</td>\n      <td>0</td>\n      <td>0</td>\n      <td>182</td>\n      <td>0</td>\n      <td>0</td>\n      <td>0</td>\n      <td>0</td>\n    </tr>\n  </tbody>\n</table>\n<p>162541 rows × 17 columns</p>\n</div>"
     },
     "metadata": {},
     "execution_count": 24
    }
   ],
   "source": [
    "# importing data\n",
    "df_user_ratings = pd.read_csv('df_ratings_by_time.csv')\n",
    "\n",
    "# columns summarized by count\n",
    "df_user_ratings_count = df_user_ratings[['movieId', 'userId']] \n",
    "df_user_ratings_count = df_user_ratings_count.groupby(['userId']).count().reset_index()\n",
    "\n",
    "# columns summarized by average\n",
    "df_user_ratings_mean = df_user_ratings[['userId', 'rating', 'age_movie_in_2019', 'age_movie_when_rated']]\n",
    "df_user_ratings_mean = df_user_ratings_mean.groupby(['userId']).mean().reset_index()\n",
    "\n",
    "# columns summarized by sum\n",
    "df_user_ratings_sum = df_user_ratings[['userId', 'NPS','time_of_day_1',\t'time_of_day_2','time_of_day_3','time_of_day_4','weekday_0','weekday_1','weekday_2',\t'weekday_3','weekday_4','weekday_5','weekday_6']]\n",
    "df_user_ratings_sum = df_user_ratings_sum.groupby(['userId']).sum().reset_index()\n",
    "\n",
    "# merging results\n",
    "df_user_ratings = df_user_ratings_count.merge(df_user_ratings_mean, on='userId', how='left')\n",
    "df_user_ratings = df_user_ratings.merge(df_user_ratings_sum, on='userId', how='left')\n",
    "\n",
    "# storing user profile results\n",
    "df_user_ratings.to_csv('df_users_profile.csv')\n",
    "\n",
    "#checking results\n",
    "df_user_ratings"
   ]
  }
 ],
 "metadata": {
  "interpreter": {
   "hash": "aee8b7b246df8f9039afb4144a1f6fd8d2ca17a180786b69acc140d282b71a49"
  },
  "kernelspec": {
   "name": "python3",
   "display_name": "Python 3.9.1 64-bit"
  },
  "language_info": {
   "name": "python",
   "version": "3.9.1"
  },
  "orig_nbformat": 2
 },
 "nbformat": 4,
 "nbformat_minor": 2
}